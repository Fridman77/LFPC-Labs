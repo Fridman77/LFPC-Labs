{
  "nbformat": 4,
  "nbformat_minor": 0,
  "metadata": {
    "colab": {
      "name": "Lab2 LFPC",
      "provenance": [],
      "collapsed_sections": [],
      "authorship_tag": "ABX9TyOhbbdJlzg8bs7sVci0lQ6k",
      "include_colab_link": true
    },
    "kernelspec": {
      "name": "python3",
      "display_name": "Python 3"
    },
    "language_info": {
      "name": "python"
    }
  },
  "cells": [
    {
      "cell_type": "markdown",
      "metadata": {
        "id": "view-in-github",
        "colab_type": "text"
      },
      "source": [
        "<a href=\"https://colab.research.google.com/github/Fridman77/LFPC-Labs/blob/main/Lab2_LFPC.ipynb\" target=\"_parent\"><img src=\"https://colab.research.google.com/assets/colab-badge.svg\" alt=\"Open In Colab\"/></a>"
      ]
    },
    {
      "cell_type": "markdown",
      "source": [
        "**Laboratatorul Nr.2 FAF203 Petru Stratulat  Varianta 17**\n",
        "\n",
        "\n",
        "*   Convert NFA from your variant to DFA on paper, writing all transitions and drawing converted automato. \n",
        "\n",
        "*   Write program which converts nondeterministic finite automato (NFA) to deterministic finite automato (DFA)\n",
        "\n",
        "*  Display converted automato in form of graph or transition table \n",
        "\n",
        "\n",
        "Variant 17\n",
        "AF=(Q, E, б, q0, F),\n",
        "\n",
        "Q = { q0, q1, q2, q3 },\n",
        "\n",
        "E = { a, b }, F = { q3}.\n",
        "\n",
        "б (q0, a ) = q0 ,\n",
        "\n",
        "б (q0, a ) = q1 ,\n",
        "\n",
        "б (q1, b ) = q1 ,\n",
        "\n",
        "б (q2, b ) = q3 ,\n",
        "\n",
        "б (q1, a ) = q2 ,\n",
        "\n",
        "б (q2, a ) = q0 ."
      ],
      "metadata": {
        "id": "WK5DGL1U4-sO"
      }
    },
    {
      "cell_type": "markdown",
      "source": [
        "In urmatoare linie de cod citim info despre gramatica."
      ],
      "metadata": {
        "id": "ntydHuMj55jm"
      }
    },
    {
      "cell_type": "code",
      "source": [
        "import pandas as pd"
      ],
      "metadata": {
        "id": "oeUH8e_s-l-7"
      },
      "execution_count": 17,
      "outputs": []
    },
    {
      "cell_type": "code",
      "execution_count": null,
      "metadata": {
        "id": "zWCv3pW6P6SO"
      },
      "outputs": [],
      "source": [
        "NFA = {}\n",
        "inputs = ['a', 'b', 'c']\n",
        "states = ['q0', 'q1', 'q2', 'q3']\n",
        "transitions = [['q0', 'a', 'q0'], ['q0', 'a', 'q1'], ['q1', 'b', 'q1'], ['q2', 'b', 'q3'], ['q1', 'a', 'q2'], ['q2', 'a', 'q0']]"
      ]
    },
    {
      "cell_type": "markdown",
      "source": [
        "Acum sortam setul si printam lista optinuta."
      ],
      "metadata": {
        "id": "wafJUYjW6BCm"
      }
    },
    {
      "cell_type": "code",
      "source": [
        "def parserGrammar(transitions):\n",
        "    NFA = {}\n",
        "    for value_id in transitions:\n",
        "        if not value_id[0] in NFA:\n",
        "            NFA[value_id[0]] = []\n",
        "        NFA[value_id[0]].append([value_id[1], value_id[2]])\n",
        "    return NFA\n",
        "parserGrammar(transitions)\n",
        "\n",
        "NFA = parserGrammar(transitions)"
      ],
      "metadata": {
        "id": "7o53jSwjVkXr"
      },
      "execution_count": null,
      "outputs": []
    },
    {
      "cell_type": "code",
      "source": [
        "print(parserGrammar(transitions))"
      ],
      "metadata": {
        "colab": {
          "base_uri": "https://localhost:8080/"
        },
        "id": "fbeTbc89XeqB",
        "outputId": "0b9a0e5a-c345-4d3a-e9a3-5f5c88e58ea3"
      },
      "execution_count": null,
      "outputs": [
        {
          "output_type": "stream",
          "name": "stdout",
          "text": [
            "{'q0': [['a', 'q0'], ['a', 'q1']], 'q1': [['b', 'q1'], ['a', 'q2']], 'q2': [['b', 'q3'], ['a', 'q0']]}\n"
          ]
        }
      ]
    },
    {
      "cell_type": "markdown",
      "source": [
        "Acum creem functia care verifica daca exista deja states "
      ],
      "metadata": {
        "id": "VvJmpkhD6XCf"
      }
    },
    {
      "cell_type": "code",
      "source": [
        "def checkState(nfa, sets):\n",
        "    state = False\n",
        "    for st in nfa:\n",
        "        if sorted(st)  == sorted(sets): \n",
        "            state = True\n",
        "    return state"
      ],
      "metadata": {
        "id": "uI89mMjxXx4N"
      },
      "execution_count": null,
      "outputs": []
    },
    {
      "cell_type": "markdown",
      "source": [
        "(1) pentru toate states care au o tranzitie\n",
        "\n",
        "(2) verificam toate imputurile\n",
        "\n",
        "(3) verificam toate tranzitiile din state\n",
        "\n",
        "(4) if the iterative input coincides with some input from transition\n",
        "\n",
        "(5) daca sunt 2 sau mai multe imputuri egale ,run\n",
        "\n",
        "(6) verificam daca un state este deja prezent in tabel\n",
        "\n",
        "(7) excudem dublicatele"
      ],
      "metadata": {
        "id": "Gp4BOBzP6yeO"
      }
    },
    {
      "cell_type": "code",
      "source": [
        "def conversion():\n",
        "    for state in states: #1\n",
        "        if state in NFA.keys():#2\n",
        "            for input in inputs:\n",
        "                new_state = ''\n",
        "                new_destinations = []\n",
        "                nr_of_equal_inputs = 0\n",
        "     \n",
        "                for transition in NFA[state]: #3\n",
        "                   \n",
        "                    if input == transition[0]: #4\n",
        "                        nr_of_equal_inputs += 1      \n",
        "                        new_state += transition[1]\n",
        "                        new_destinations.append(transition[1])\n",
        "\n",
        "                if nr_of_equal_inputs > 1: #5\n",
        "                   \n",
        "                    if checkState(NFA.keys(), new_state): #6\n",
        "                        return\n",
        "                    NFA[new_state] = []\n",
        "                    for destination in new_destinations:\n",
        "                        for trans in NFA[destination]:\n",
        "                            \n",
        "                            if trans not in NFA[new_state]: NFA[new_state].append(trans) #7\n",
        "                    states.append(new_state)           "
      ],
      "metadata": {
        "id": "w-3KqPlS6vf2"
      },
      "execution_count": null,
      "outputs": []
    },
    {
      "cell_type": "code",
      "source": [
        "conversion()\n",
        "print(NFA)"
      ],
      "metadata": {
        "colab": {
          "base_uri": "https://localhost:8080/"
        },
        "id": "aMEoCDLZdECy",
        "outputId": "b367ada2-98ab-424f-d1e7-f144795084f4"
      },
      "execution_count": null,
      "outputs": [
        {
          "output_type": "stream",
          "name": "stdout",
          "text": [
            "{'q0': [['a', 'q0'], ['a', 'q1']], 'q1': [['b', 'q1'], ['a', 'q2']], 'q2': [['b', 'q3'], ['a', 'q0']], 'q0q1': [['a', 'q0'], ['a', 'q1'], ['b', 'q1'], ['a', 'q2']], 'q0q1q2': [['a', 'q0'], ['a', 'q1'], ['b', 'q1'], ['a', 'q2'], ['b', 'q3']]}\n"
          ]
        }
      ]
    },
    {
      "cell_type": "code",
      "source": [
        "def create_table():\n",
        "    print(\"{:<13}\".format('States'), end=' ')\n",
        "    for input in inputs:\n",
        "          print(\"{:<13}\".format(input), end=' ')\n",
        "    for state in states:\n",
        "          print(\"\\n{:<13}\".format(state), end=' ')\n",
        "          if state in NFA.keys():\n",
        "              for input in inputs:\n",
        "                  input1 = ''\n",
        "                  for transition in NFA[state]:\n",
        "                      if input == transition[0]:\n",
        "                          input1 += transition[1]\n",
        "                  print(\"{:<13}\".format(input1), end=' ')\n"
      ],
      "metadata": {
        "id": "h8Gixhs_76j6"
      },
      "execution_count": null,
      "outputs": []
    },
    {
      "cell_type": "code",
      "source": [
        "conversion()\n",
        "create_table()"
      ],
      "metadata": {
        "colab": {
          "base_uri": "https://localhost:8080/"
        },
        "id": "Pbz2FKe69xOc",
        "outputId": "e5778da3-d8a4-49d3-8c23-c2fba9fe7104"
      },
      "execution_count": null,
      "outputs": [
        {
          "output_type": "stream",
          "name": "stdout",
          "text": [
            "States        a             b             c             \n",
            "q0            q0q1                                      \n",
            "q1            q2            q1                          \n",
            "q2            q0            q3                          \n",
            "q3            \n",
            "q0q1          q0q1q2        q1                          \n",
            "q0q1q2        q0q1q2        q1q3                        "
          ]
        }
      ]
    }
  ]
}