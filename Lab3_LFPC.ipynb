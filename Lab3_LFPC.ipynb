{
  "nbformat": 4,
  "nbformat_minor": 0,
  "metadata": {
    "colab": {
      "name": "Lab3_LFPC.ipynb",
      "provenance": [],
      "collapsed_sections": [],
      "authorship_tag": "ABX9TyP55VBH62ocO+DtMTQ/U7k6",
      "include_colab_link": true
    },
    "kernelspec": {
      "name": "python3",
      "display_name": "Python 3"
    },
    "language_info": {
      "name": "python"
    }
  },
  "cells": [
    {
      "cell_type": "markdown",
      "metadata": {
        "id": "view-in-github",
        "colab_type": "text"
      },
      "source": [
        "<a href=\"https://colab.research.google.com/github/Fridman77/LFPC-Labs/blob/main/Lab3_LFPC.ipynb\" target=\"_parent\"><img src=\"https://colab.research.google.com/assets/colab-badge.svg\" alt=\"Open In Colab\"/></a>"
      ]
    },
    {
      "cell_type": "markdown",
      "source": [
        "*   Program Example\n",
        "\n",
        "> Bloc indentat\n",
        "\n",
        "\n",
        "```\n",
        "int Function { \n",
        "  x = 5 ; \n",
        "  y = 6; \n",
        "  print x * y ; \n",
        "  }\n",
        "```\n",
        "\n"
      ],
      "metadata": {
        "id": "4n2IMChzknTZ"
      }
    },
    {
      "cell_type": "code",
      "execution_count": 13,
      "metadata": {
        "id": "cQh_4hueikC_"
      },
      "outputs": [],
      "source": [
        "import re #https://docs.python.org/3/library/re.html\n",
        "\n",
        "#keywords,separators,operators,data_types and values take from https://www.guru99.com/c-tokens-keywords-identifier.html\n",
        "\n",
        "KEYWORD = [\"if\", \"else\", \"while\", \"for\", \"print\", \"return\", \"switch\", \"case\", \"break\", \"Function\"]\n",
        "SEPARATOR = ['(', ')', '{', '}', '[', ']',',','=']\n",
        "OPERATOR = ['-', '+', '*', '/', '%']\n",
        "DATA_TYPE = ['int', 'float','string', 'bool','void']\n",
        "BOOL_VAL = ['True','False']\n",
        "\n",
        "#funtion lexer that will check the matching with all the tokens\n",
        "class Lexer(object):\n",
        "    def __init__(self, source_code):\n",
        "        self.source_code=source_code\n",
        "    \n",
        "    def tokenize(self):\n",
        "        tokens = []\n",
        "\n",
        "        #Word list\n",
        "        source_code = self.source_code.split()\n",
        "\n",
        "        #Index of word list\n",
        "        source_index = 0\n",
        "\n",
        "        #Loop through source code for generating tokens\n",
        "        while source_index < len(source_code):\n",
        "            word_list  = source_code[source_index]\n",
        "            if (source_code[source_index]) == ' ':\n",
        "                self.check\n",
        "                source_index +=1\n",
        "\n",
        "            #Token for \"KEYWORDS\"\n",
        "            if word_list in KEYWORD : \n",
        "                tokens.append([\"KEYWORD\", word_list])      \n",
        "\n",
        "            #Token for \"SEPARATORS\"\n",
        "            elif word_list in SEPARATOR :\n",
        "                tokens.append([\"SEPARATORS\", word_list])\n",
        "\n",
        "            #Token for \"OPERATORS\"\n",
        "            elif word_list in OPERATOR: \n",
        "                tokens.append([\"OPERATORS\", word_list])\n",
        "\n",
        "            #Token for \"DATA_TYPE\"\n",
        "            elif word_list in DATA_TYPE:\n",
        "                tokens.append([\"DATA_TYPE\", word_list])\n",
        "\n",
        "            #Token for \"COMMENT\"\n",
        "            elif word_list in \"#\" :\n",
        "                tokens.append([\"COMMENT\", word_list])\n",
        "\n",
        "            #Token for \"BOOL_VAL\"\n",
        "            elif word_list in BOOL_VAL:\n",
        "                tokens.append([\"BOOL_VAL\", word_list])\n",
        "            \n",
        "            #Token for any unspecified word\n",
        "            elif re.match('[a-z]', word_list) or re.match('[A-Z]', word_list):\n",
        "                if word_list[-1] == \";\" :\n",
        "                    tokens.append([\"IDENTIFIER\", word_list[0:len(word_list)-1]])\n",
        "                else: \n",
        "                    tokens.append(['IDENTIFIER', word_list])\n",
        "\n",
        "\n",
        "            elif re.match('[0-9]', word_list):\n",
        "                if word_list[-1] == \";\" :\n",
        "                    tokens.append([\"INTEGER\", word_list[0:len(word_list)-1]])\n",
        "                else: \n",
        "                    tokens.append([\"INTEGER\", word_list])\n",
        "\n",
        "            #don't recheck tokens\n",
        "            source_index +=1\n",
        "        print(tokens)\n",
        "        return tokens"
      ]
    },
    {
      "cell_type": "code",
      "source": [
        "def main():\n",
        "    #Read the source code \n",
        "    program=\" int Function { x = 5 ; y = 6; print x * y ; } \"\n",
        "    lex = Lexer(program)\n",
        "    #Call the tokenize method\n",
        "    tokens = lex.tokenize()\n",
        "main()"
      ],
      "metadata": {
        "colab": {
          "base_uri": "https://localhost:8080/"
        },
        "id": "6v13cBsMi8kD",
        "outputId": "db6358aa-7f64-4b5f-d1dd-c0f3e2287a32"
      },
      "execution_count": 14,
      "outputs": [
        {
          "output_type": "stream",
          "name": "stdout",
          "text": [
            "[['DATA_TYPE', 'int'], ['KEYWORD', 'Function'], ['SEPARATORS', '{'], ['IDENTIFIER', 'x'], ['SEPARATORS', '='], ['INTEGER', '5'], ['IDENTIFIER', 'y'], ['SEPARATORS', '='], ['INTEGER', '6'], ['KEYWORD', 'print'], ['IDENTIFIER', 'x'], ['OPERATORS', '*'], ['IDENTIFIER', 'y'], ['SEPARATORS', '}']]\n"
          ]
        }
      ]
    }
  ]
}