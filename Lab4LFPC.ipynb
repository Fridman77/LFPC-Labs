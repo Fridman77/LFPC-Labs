{
  "nbformat": 4,
  "nbformat_minor": 0,
  "metadata": {
    "colab": {
      "name": "Lab4LFPC.ipynb",
      "provenance": [],
      "authorship_tag": "ABX9TyP7ve/uCrjJYSZhMsQcIL+h",
      "include_colab_link": true
    },
    "kernelspec": {
      "name": "python3",
      "display_name": "Python 3"
    },
    "language_info": {
      "name": "python"
    }
  },
  "cells": [
    {
      "cell_type": "markdown",
      "metadata": {
        "id": "view-in-github",
        "colab_type": "text"
      },
      "source": [
        "<a href=\"https://colab.research.google.com/github/Fridman77/LFPC-Labs/blob/main/Lab4LFPC.ipynb\" target=\"_parent\"><img src=\"https://colab.research.google.com/assets/colab-badge.svg\" alt=\"Open In Colab\"/></a>"
      ]
    },
    {
      "cell_type": "markdown",
      "source": [
        "Varianta 17\n",
        "\n",
        "\n",
        "\n",
        "```\n",
        "G=(VN, VT, P, S) \n",
        "VN={S, A, B, C, D, E} VT={a, b}\n",
        "P={\n",
        "1. S->aA\n",
        "2. S->AC\n",
        "3. A->a\n",
        "4. A->ASC\n",
        "5. A->BC\n",
        "6. A->aD\n",
        "7. B->b\n",
        "8. B->bA\n",
        "9. C->ε\n",
        "10. C->BA\n",
        "11. E->aB\n",
        "12. D->abC\n",
        "}\n",
        "```\n",
        "\n",
        "\n"
      ],
      "metadata": {
        "id": "j7_vO4tQa6t4"
      }
    },
    {
      "cell_type": "code",
      "source": [
        "from collections import defaultdict\n",
        "from itertools import combinations"
      ],
      "metadata": {
        "id": "lrYDwgyQbe2p"
      },
      "execution_count": 2,
      "outputs": []
    },
    {
      "cell_type": "code",
      "source": [
        "Vn = ['S','A','B','C','D','E']\n",
        "Vt = ['a','b']\n",
        "  \n",
        "productions = ['S->aA','S->AC','A->a','A->ASC','A->BC','A->aD','B->b','B->bA','C->ε','C->BA','E->aB','D->abC']"
      ],
      "metadata": {
        "id": "_7xuO3xRbhan"
      },
      "execution_count": 3,
      "outputs": []
    },
    {
      "cell_type": "code",
      "source": [
        "def parseGrammar():\n",
        "  grammar = {}\n",
        "  \n",
        "  for transtions in productions:\n",
        "    rules = transtions.split(\"->\")\n",
        "    rule = list(rules[1])\n",
        "    if not rules[0] in grammar:\n",
        "      grammar[rules[0]] = []\n",
        "    grammar[rules[0]].append(rule)\n",
        "    \n",
        "  return defaultdict(lambda: \"default\",grammar=grammar, Vn=Vn, Vt=Vt)\n",
        "\n",
        "parsedGrammar = parseGrammar()"
      ],
      "metadata": {
        "id": "iGT7UyurcAbh"
      },
      "execution_count": 4,
      "outputs": []
    },
    {
      "cell_type": "code",
      "source": [
        "def checkEpsilon(grammar):\n",
        "  epsilon_rules = []\n",
        "\n",
        "  for state in grammar:\n",
        "    for transitions in grammar[state]:\n",
        "      if '$' in transitions and len(transitions) == 1:\n",
        "        epsilon_rules.append(state)\n",
        "  return epsilon_rules"
      ],
      "metadata": {
        "id": "XAX1nA31cCwH"
      },
      "execution_count": 5,
      "outputs": []
    },
    {
      "cell_type": "code",
      "source": [
        "# Check the frequence of a non-terminal in a production.\n",
        "def checkFrequency(transitions, non_term, symbol_freq):\n",
        "  freq = 0;\n",
        "  for index in range(len(transitions)):\n",
        "    if transitions[index] == non_term:\n",
        "      freq += 1\n",
        "      if freq == symbol_freq:\n",
        "        return index"
      ],
      "metadata": {
        "id": "wp9K6InZcEzg"
      },
      "execution_count": 6,
      "outputs": []
    },
    {
      "cell_type": "code",
      "source": [
        "# Create all possible subsets of a production.\n",
        "def subsets(transitions, remove_transition, has_epsilon):\n",
        "  # Init array for possible combinations\n",
        "  possible_combinations = []\n",
        "  for x in range(1, has_epsilon + 1):\n",
        "    possible_combinations += list(combinations(range(1, has_epsilon + 1), x))\n",
        "    \n",
        "    new_transitions = []\n",
        "  for combination in possible_combinations:\n",
        "    # Copy the transition to compute.\n",
        "    comb = transitions.copy()\n",
        "    for number in combination:\n",
        "      # Remove the empty state to create a new combination.\n",
        "      comb.pop(checkFrequency(transitions, remove_transition, number) - len(transitions) + len(comb))\n",
        "    # If the combination doesn't exists - add it to the list.\n",
        "    if comb not in new_transitions:\n",
        "      new_transitions.append(comb)\n",
        "\n",
        "  return new_transitions"
      ],
      "metadata": {
        "id": "rak-0rCfcGnI"
      },
      "execution_count": 9,
      "outputs": []
    },
    {
      "cell_type": "code",
      "source": [
        "def removeEpsilon(grammar):\n",
        "    \n",
        "  while(len(checkEpsilon(grammar))):\n",
        "    epsilon_rules = checkEpsilon(grammar)\n",
        "    \n",
        "    for derives_eps in epsilon_rules:\n",
        "      for state in grammar:\n",
        "        for transitions in grammar[state]:\n",
        "          # Check if the empty state is in any right production.\n",
        "          if derives_eps in transitions:\n",
        "            # Count how many empty states are in the production.\n",
        "            has_epsilon = transitions.count(derives_eps)\n",
        "\n",
        "            # If all the rules derives to the empty state - make the current state empty.\n",
        "            if has_epsilon == len(transitions):\n",
        "              grammar[state].append(['$'])\n",
        "              continue\n",
        "\n",
        "            # Compute the possible combinations.\n",
        "            possibleCombinations = subsets(transitions, derives_eps, has_epsilon)\n",
        "            # Update the grammar with the new transitions.\n",
        "            for comb in possibleCombinations:\n",
        "              if comb not in grammar[state]:\n",
        "                grammar[state].append(comb)\n",
        "\n",
        "      # Remove epsilon transitions.\n",
        "      grammar[derives_eps].remove(['$'])\n",
        "  return grammar"
      ],
      "metadata": {
        "id": "YN1k-4m8cMEY"
      },
      "execution_count": 10,
      "outputs": []
    },
    {
      "cell_type": "code",
      "source": [
        "def removeUnit(grammar, Vn):\n",
        "  for state in grammar:\n",
        "    for transitions in grammar[state]:\n",
        "      # Check if the states derives in a single Non-Terminal Symbol.\n",
        "      if len(transitions) == 1 and transitions[0] in Vn:\n",
        "        # If true - remove it.\n",
        "        grammar[state].remove(transitions)\n",
        "        for transition_rules in grammar[transitions[0]]:\n",
        "          if transition_rules not in grammar[state]:\n",
        "            # Update the current state' transition to the adj state transition.\n",
        "            grammar[state].append(transition_rules)\n",
        "  return grammar"
      ],
      "metadata": {
        "id": "DzM0uORzcOQA"
      },
      "execution_count": 11,
      "outputs": []
    },
    {
      "cell_type": "code",
      "source": [
        "def removeInaccessible(grammar, Vn):\n",
        "  non_terminals = Vn.copy();\n",
        "  non_terminals.remove(\"S\")\n",
        "\n",
        "  for non_terminal in non_terminals:\n",
        "    inaccessible = True\n",
        "\n",
        "    for state in grammar:\n",
        "      for transitions in grammar[state]:\n",
        "        if non_terminal in transitions and state != non_terminal:\n",
        "            inaccessible = False\n",
        "            break\n",
        "    \n",
        "    if inaccessible:\n",
        "      grammar.pop(non_terminal)\n",
        "  return grammar\n"
      ],
      "metadata": {
        "id": "Iyn6QMPzcQl4"
      },
      "execution_count": 12,
      "outputs": []
    },
    {
      "cell_type": "code",
      "source": [
        "print('\\nInput', parsedGrammar['grammar'])"
      ],
      "metadata": {
        "colab": {
          "base_uri": "https://localhost:8080/"
        },
        "id": "T60lpkaicSoA",
        "outputId": "9331d4b4-0219-4ab0-85e8-5dc9a83e49be"
      },
      "execution_count": 13,
      "outputs": [
        {
          "output_type": "stream",
          "name": "stdout",
          "text": [
            "\n",
            "Input {'S': [['a', 'A'], ['A', 'C']], 'A': [['a'], ['A', 'S', 'C'], ['B', 'C'], ['a', 'D']], 'B': [['b'], ['b', 'A']], 'C': [['ε'], ['B', 'A']], 'E': [['a', 'B']], 'D': [['a', 'b', 'C']]}\n"
          ]
        }
      ]
    },
    {
      "cell_type": "code",
      "source": [
        "print('\\nStep 1: Eliminate epsilon productions')\n",
        "eliminate_eps_prod = removeEpsilon(parsedGrammar['grammar'])\n",
        "print(eliminate_eps_prod)"
      ],
      "metadata": {
        "colab": {
          "base_uri": "https://localhost:8080/"
        },
        "id": "0HiCDJ4ccS-o",
        "outputId": "869a90c4-8f2b-4d8b-eb02-8c1a23ad0cce"
      },
      "execution_count": 14,
      "outputs": [
        {
          "output_type": "stream",
          "name": "stdout",
          "text": [
            "\n",
            "Step 1: Eliminate epsilon productions\n",
            "{'S': [['a', 'A'], ['A', 'C']], 'A': [['a'], ['A', 'S', 'C'], ['B', 'C'], ['a', 'D']], 'B': [['b'], ['b', 'A']], 'C': [['ε'], ['B', 'A']], 'E': [['a', 'B']], 'D': [['a', 'b', 'C']]}\n"
          ]
        }
      ]
    },
    {
      "cell_type": "code",
      "source": [
        "print('\\nStep 2: Eliminate unit productions')\n",
        "eliminate_unit_prod = removeUnit(eliminate_eps_prod, parsedGrammar['Vn'])\n",
        "print(eliminate_unit_prod)"
      ],
      "metadata": {
        "colab": {
          "base_uri": "https://localhost:8080/"
        },
        "id": "zsAPFAdncVLw",
        "outputId": "08c2f80b-2899-4804-e198-1fa131eda7df"
      },
      "execution_count": 15,
      "outputs": [
        {
          "output_type": "stream",
          "name": "stdout",
          "text": [
            "\n",
            "Step 2: Eliminate unit productions\n",
            "{'S': [['a', 'A'], ['A', 'C']], 'A': [['a'], ['A', 'S', 'C'], ['B', 'C'], ['a', 'D']], 'B': [['b'], ['b', 'A']], 'C': [['ε'], ['B', 'A']], 'E': [['a', 'B']], 'D': [['a', 'b', 'C']]}\n"
          ]
        }
      ]
    },
    {
      "cell_type": "code",
      "source": [
        "print('\\nStep 3: Eliminate inaccesible productions')\n",
        "eliminate_inaccessible_prod = removeInaccessible(eliminate_unit_prod, parsedGrammar['Vn'])\n",
        "print(eliminate_inaccessible_prod)"
      ],
      "metadata": {
        "colab": {
          "base_uri": "https://localhost:8080/"
        },
        "id": "2ha9FaPGcWzY",
        "outputId": "dac11997-076c-4c81-c8a6-a4e94cae38f3"
      },
      "execution_count": 16,
      "outputs": [
        {
          "output_type": "stream",
          "name": "stdout",
          "text": [
            "\n",
            "Step 3: Eliminate inaccesible productions\n",
            "{'S': [['a', 'A'], ['A', 'C']], 'A': [['a'], ['A', 'S', 'C'], ['B', 'C'], ['a', 'D']], 'B': [['b'], ['b', 'A']], 'C': [['ε'], ['B', 'A']], 'D': [['a', 'b', 'C']]}\n"
          ]
        }
      ]
    }
  ]
}