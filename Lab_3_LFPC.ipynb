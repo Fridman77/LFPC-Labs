{
  "nbformat": 4,
  "nbformat_minor": 0,
  "metadata": {
    "colab": {
      "name": "Lab 3 LFPC",
      "provenance": [],
      "collapsed_sections": [],
      "authorship_tag": "ABX9TyPuUhKe/tU76o02sxjiq7ri",
      "include_colab_link": true
    },
    "kernelspec": {
      "name": "python3",
      "display_name": "Python 3"
    },
    "language_info": {
      "name": "python"
    }
  },
  "cells": [
    {
      "cell_type": "markdown",
      "metadata": {
        "id": "view-in-github",
        "colab_type": "text"
      },
      "source": [
        "<a href=\"https://colab.research.google.com/github/Fridman77/LFPC-Labs/blob/main/Lab_3_LFPC.ipynb\" target=\"_parent\"><img src=\"https://colab.research.google.com/assets/colab-badge.svg\" alt=\"Open In Colab\"/></a>"
      ]
    },
    {
      "cell_type": "markdown",
      "source": [
        "Laboratatorul Nr.3 FAF203 Petru Stratulat"
      ],
      "metadata": {
        "id": "7P7GBJYw0LWj"
      }
    },
    {
      "cell_type": "markdown",
      "source": [
        "*   Program Example\n",
        "\n",
        "\n",
        "\n",
        "```\n",
        "Function aria(b,c) {\n",
        "  var a = b * c;\n",
        "  return a;\n",
        "}\n",
        "\n",
        "Function main() {\n",
        "  var x=5;\n",
        "  var y=5;\n",
        "  var z=aria(x,y);\n",
        "}\n",
        "```\n",
        "\n",
        "\n",
        "G = { T, N, S, P }\n",
        "\n",
        "\n",
        "```\n",
        "T = terminal symbols\n",
        "N = non-terminal symbols\n",
        "S = start symbol\n",
        "P = derivation rules\n",
        "```\n",
        "\n",
        "\n",
        "\n",
        "```\n",
        "T = {a..z, A..Z, , {, }, (, ), ; , 0..9, + , - , * , / , < , > , = , <=, >=, !=, var, and, or, not, if, else, for, to, while, function, then, return, do}\n",
        "```\n",
        "\n",
        "\n",
        "\n",
        "```\n",
        "N = {<program>, <function>, <id>, <expression>, <operation>, <expression>, <operation>, <declaration>, <function-call>, <display>, <flow-control>, <arithmetic-operation>, <arithmetic-operator>, <logic-operation>, <logic-operator>, <letters>, <digits>, <string>, <char>, <characters>, <number>, <boolean> }\n",
        "```\n",
        "\n",
        "\n",
        "\n",
        "\n",
        "```\n",
        "P = {\n",
        "<program> → <function>\n",
        "<function> → func <id> (<id>*) { <expression>+ [ return <id> | <expression>|<operation>]}\n",
        "<id> → <letters> [<letters>*| <digits>*| _ ]\n",
        "<expression> → <declaration> |\n",
        " <function-call> |\n",
        " <flow-control>\n",
        "<operation> → <arithmetic-operation> |\n",
        " <logic-operation>\n",
        "<declaration> → var <id> [= <id> | <operation> | <function-call> | <string>| <number>] |\n",
        " const <id> [= <id> | <operation> | <function-call> | <string>| <number>]\n",
        " <function-call> → <display> ([<id>* | <numbers>* | <char>* | <string>*]) |\n",
        " <id> ([<id>* | <numbers>* | <char>* | <string>*])\n",
        "<display> → print\n",
        "<flow-control> → if <logic-operation> {<expression>+} [else {<expression>+}] |\n",
        " while <operation>:\n",
        " for ( var <id> = <number> ; <id> <logic-operator> <id> ;\n",
        " <id> <arithmetic- operator> ) {<expression>}\n",
        "<arithmetic-operation> → <number> <arithm-operator> <number> |\n",
        " <id> <arithm-operator> <id>\n",
        "<arithmetic-operator> → + | - | / | * | %\n",
        "<logic-operation> → <number> <logic-operator> <number> |\n",
        " <id> <logic-operator> <id>\n",
        "<logic-operator> → = | > | < | >= | <= | != | && | ||\n",
        " <number> → <digits>+ [. <digits>+]\n",
        "<letters> → a..z, A...z\n",
        " <digits> → 0..9\n",
        " <string> → \" <characters>* \"\n",
        " <char> → ‘ <characters>* ‘\n",
        " <characters>→\n",
        "0123456789abcdefghijklmnopqrstuvwxyzABCDEFGHIJKLMNOPQRSTUVWXYZ!\"#\n",
        "$%&\\'()*+,-./:;<=>?[\\\\]^_`{|}~ \\t\\n\n",
        " <boolean> → true | false\n",
        "}\n",
        "```\n",
        "\n",
        "\n"
      ],
      "metadata": {
        "id": "D-85ZpN70YVK"
      }
    },
    {
      "cell_type": "code",
      "source": [
        "KEYWORDS = ['var', 'and', 'or', 'not', 'if', 'else', 'for',\n",
        "            'to', 'while', 'function', 'then', 'return', 'do']"
      ],
      "metadata": {
        "id": "qRoNTrzb2qjm"
      },
      "execution_count": 1,
      "outputs": []
    },
    {
      "cell_type": "code",
      "source": [
        "TOKENS_TYPE= [\n",
        "    'KEYWORD', 'IDENTIFIER', 'INTEGER_LITERAL',\n",
        "    'OPERATOR', 'STRING_LITERAL', 'SEPARATOR', 'FLOAT_LITERAL', 'DATA_TYPE' , 'BOOL_LITERAL', 'RELATIONAL'\n",
        "]"
      ],
      "metadata": {
        "id": "j_0qPjDW_9xh"
      },
      "execution_count": 5,
      "outputs": []
    },
    {
      "cell_type": "code",
      "source": [
        "TOKENS = {\n",
        "    \"INT\": 'INT',\n",
        "    \"FLOAT\": 'FLOAT',\n",
        "    \"STRING\": 'STRING',\n",
        "    \"IDENTIFIER\": 'IDENTIFIER',\n",
        "    \"KEYWORD\": 'KEYWORD',\n",
        "    \n",
        "    \"=\": 'ASSIGN',     \n",
        "    \"+\": 'PLUS',        \n",
        "    \"-\": 'MINUS',       \n",
        "    \"*\": 'MULTIPLY',        \n",
        "    \"/\": 'DIVIDE',    \n",
        "    \"%\":  'MOD',    \n",
        "    \"==\": 'EQUAL_SIGN',       \n",
        "    \"(\": 'LPAREN',       \n",
        "    \")\": 'RPAREN',  \n",
        "    \"{\": 'LC_BRACKET',\n",
        "    \"}\": 'RC_BRACKET',     \n",
        "    \",\": 'COMMA',\n",
        "    \"#\": 'COMMENT',        \n",
        "    \n",
        "    \"!=\": 'NE',             \n",
        "    \"<\": 'LESS_THAN',        \n",
        "    \">\": 'GREATER_THAN',     \n",
        "    \"<=\": 'LTE',            \n",
        "    \">=\": 'GTE',            \n",
        "\n",
        "    \"EOF\": 'EOF',\n",
        "}"
      ],
      "metadata": {
        "id": "sSd--Ln38yXi"
      },
      "execution_count": 2,
      "outputs": []
    },
    {
      "cell_type": "code",
      "source": [
        "class Element:\n",
        "    def __init__(self, expr, line_numbers, type):\n",
        "        self.data = {\n",
        "            \"EXPRESSION\": expr,\n",
        "            \"LINE\": line_numbers,\n",
        "            \"TYPE\": type\n",
        "        }\n",
        "        self.next = None"
      ],
      "metadata": {
        "id": "0E3-jpHM_Y_H"
      },
      "execution_count": 3,
      "outputs": []
    },
    {
      "cell_type": "code",
      "source": [
        "class Token:\n",
        "       \n",
        "    def __init__(self, pos, expr, linenumber):\n",
        "        \n",
        "        if (pos==10):\n",
        "            self.type = TOKENS[expr] \n",
        "        else: \n",
        "            self.type = TOKENS_TYPE[pos]       \n",
        "        self.expr = expr\n",
        "        self.line_number = linenumber"
      ],
      "metadata": {
        "id": "0B1VEsjx_xAA"
      },
      "execution_count": 8,
      "outputs": []
    },
    {
      "cell_type": "code",
      "source": [
        "class Lexer:\n",
        "  "
      ],
      "metadata": {
        "colab": {
          "base_uri": "https://localhost:8080/",
          "height": 130
        },
        "id": "tYxr3OrGSGxM",
        "outputId": "f9fb0b21-68e7-4ea7-bbd8-f28ea1fb5cda"
      },
      "execution_count": 9,
      "outputs": [
        {
          "output_type": "error",
          "ename": "SyntaxError",
          "evalue": "ignored",
          "traceback": [
            "\u001b[0;36m  File \u001b[0;32m\"<ipython-input-9-59315a133b93>\"\u001b[0;36m, line \u001b[0;32m2\u001b[0m\n\u001b[0;31m    \u001b[0m\n\u001b[0m    ^\u001b[0m\n\u001b[0;31mSyntaxError\u001b[0m\u001b[0;31m:\u001b[0m unexpected EOF while parsing\n"
          ]
        }
      ]
    }
  ]
}