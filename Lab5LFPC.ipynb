{
  "nbformat": 4,
  "nbformat_minor": 0,
  "metadata": {
    "colab": {
      "name": "Lab5LFPC.ipynb",
      "provenance": [],
      "collapsed_sections": [],
      "authorship_tag": "ABX9TyPDdI1bdCGXEmhIeaj34MsR",
      "include_colab_link": true
    },
    "kernelspec": {
      "name": "python3",
      "display_name": "Python 3"
    },
    "language_info": {
      "name": "python"
    }
  },
  "cells": [
    {
      "cell_type": "markdown",
      "metadata": {
        "id": "view-in-github",
        "colab_type": "text"
      },
      "source": [
        "<a href=\"https://colab.research.google.com/github/Fridman77/LFPC-Labs/blob/main/Lab5LFPC.ipynb\" target=\"_parent\"><img src=\"https://colab.research.google.com/assets/colab-badge.svg\" alt=\"Open In Colab\"/></a>"
      ]
    },
    {
      "cell_type": "code",
      "source": [
        "from nltk import Tree\n",
        "from collections import defaultdict\n",
        "import pandas as pd"
      ],
      "metadata": {
        "id": "EbLqECi0v8wL"
      },
      "execution_count": 76,
      "outputs": []
    },
    {
      "cell_type": "code",
      "source": [
        "Vn = ['S', 'B', 'D', 'A']\n",
        "Vt = ['a', 'b', 'c', 'd']\n",
        "P = ['S->dB', 'B->a', 'B->aA', 'A->D', 'A->DcA', 'D->bB', 'A->c']"
      ],
      "metadata": {
        "id": "0lvulbD9wUdz"
      },
      "execution_count": 77,
      "outputs": []
    },
    {
      "cell_type": "code",
      "source": [
        "def print_grammar(states):\n",
        "    print('\\nGIVEN GRAMMAR', end='\\n')\n",
        "    print('Vn = {', str(Vn).replace('[', '').replace(']', '').replace(\"'\", ''), '}')\n",
        "    print('Vt = {', str(Vt).replace('[', '').replace(']', '').replace(\"'\", ''), '}')\n",
        "    print('P = {')\n",
        "    for left_part, right_part in states.items():\n",
        "        for productions in right_part:\n",
        "            right = ''\n",
        "            for character in productions:\n",
        "                right += character\n",
        "            print('\\t' + left_part + ' -> ' + right)\n",
        "    print('}')"
      ],
      "metadata": {
        "id": "r1kfb8s8wDmk"
      },
      "execution_count": 78,
      "outputs": []
    },
    {
      "cell_type": "code",
      "source": [
        "def check_grammar():\n",
        "\n",
        "    for k in P:\n",
        "        if k[0] not in states.keys():\n",
        "            states[k[0]] = []\n",
        "        for symbol in k:\n",
        "            if symbol == '$':\n",
        "                print('\\nThe grammar is not suitable for this parsing algorithm.')\n",
        "                quit()\n",
        "    print('\\nThe grammar is suitable for this parsing algorithm.')\n",
        "    print()"
      ],
      "metadata": {
        "id": "mnB_EOUQwNDS"
      },
      "execution_count": 79,
      "outputs": []
    },
    {
      "cell_type": "code",
      "source": [
        "def parse_grammar():\n",
        "    for k in P:\n",
        "        symbols = []\n",
        "        if k[0] not in states.keys():\n",
        "            states[k[0]] = []\n",
        "        for symbol in k:\n",
        "            if symbol != '-' and symbol != '>':\n",
        "                symbols.append(symbol)\n",
        "        states[symbols.pop(0)].append(symbols)"
      ],
      "metadata": {
        "id": "Mc9wHjULwae7"
      },
      "execution_count": 80,
      "outputs": []
    },
    {
      "cell_type": "code",
      "source": [
        "def split_prod(P):\n",
        "    for k in Vn:\n",
        "        prod[k] = []\n",
        "    for el in P:\n",
        "        prod[el[0]].append(el[(el.index(\"->\") + 2):])"
      ],
      "metadata": {
        "id": "-vD2UrqOwd6T"
      },
      "execution_count": 81,
      "outputs": []
    },
    {
      "cell_type": "code",
      "source": [
        "def get_first_last(left, left1, pos, dict):\n",
        "    for right in states[left1]:\n",
        "        if right[pos] not in dict[left]:\n",
        "            dict[left].append(right[pos])\n",
        "            if right[pos] in Vn:\n",
        "                get_first_last(left, right[pos], pos, dict)"
      ],
      "metadata": {
        "id": "I1_WmUbiwhG7"
      },
      "execution_count": 82,
      "outputs": []
    },
    {
      "cell_type": "code",
      "source": [
        "def first_last():\n",
        "    for N in Vn:\n",
        "        first[N] = []\n",
        "        last[N] = []\n",
        "        get_first_last(N, N, 0, first)\n",
        "        get_first_last(N, N, -1, last)"
      ],
      "metadata": {
        "id": "IlBCYTv7wkoD"
      },
      "execution_count": 83,
      "outputs": []
    },
    {
      "cell_type": "code",
      "source": [
        "def print_first_last():\n",
        "    dd = defaultdict(list)\n",
        "    for d in (first, last):\n",
        "        for key, value in d.items():\n",
        "            dd[key].append(value)\n",
        "    df = pd.DataFrame([[key] + list(value) for key, value in dd.items()], columns=['VN', 'FIRST', 'LAST'])\n",
        "    print(df.to_string(index=False))"
      ],
      "metadata": {
        "id": "UU8SQn30woFi"
      },
      "execution_count": 84,
      "outputs": []
    },
    {
      "cell_type": "code",
      "source": [
        "def get_equal_rule1(production, count): # for productions with 2 or more symbols in the right part\n",
        "    simple_precedence_matrix[production[count]][production[count + 1]].append('=')"
      ],
      "metadata": {
        "id": "O5cRnTvzwryS"
      },
      "execution_count": 85,
      "outputs": []
    },
    {
      "cell_type": "code",
      "source": [
        "def get_less_rule2(production, count): # productions where Vt||Vn followed by Vn\n",
        "    if production[count + 1] in Vn:\n",
        "        for symbol in first[production[count + 1]]:\n",
        "            simple_precedence_matrix[production[count]][symbol].append('<')"
      ],
      "metadata": {
        "id": "ZaoNNWR4wvQK"
      },
      "execution_count": 86,
      "outputs": []
    },
    {
      "cell_type": "code",
      "source": [
        "def get_greater_rule3(production, count): # for productions where Vn followed by Vt or Vn0 followed by Vn1\n",
        "    if production[count] in Vn and production[count + 1] in Vt:\n",
        "        for symbol in last[production[count]]:\n",
        "            simple_precedence_matrix[symbol][production[count + 1]].append('>')\n",
        "    elif production[count] in Vn and production[count + 1] in Vn:\n",
        "        for symbol in last[production[count]]:\n",
        "            for symb in first[production[count + 1]]:\n",
        "                if symb in Vt:\n",
        "                    simple_precedence_matrix[symbol][symb].append('>')"
      ],
      "metadata": {
        "id": "nwUN_iQ8wxps"
      },
      "execution_count": 87,
      "outputs": []
    },
    {
      "cell_type": "code",
      "source": [
        "def start_matrix(array):\n",
        "    for k in array:\n",
        "        simple_precedence_matrix[k] = {}\n",
        "        for element in array:\n",
        "            simple_precedence_matrix[k][element] = []\n",
        "            if k == '$' and element != '$':\n",
        "                simple_precedence_matrix['$'][element] = ['<']\n",
        "        if k != '$':\n",
        "            simple_precedence_matrix[k]['$'] = ['>']"
      ],
      "metadata": {
        "id": "LMr3tG8Dw10z"
      },
      "execution_count": 88,
      "outputs": []
    },
    {
      "cell_type": "code",
      "source": [
        "def finish_matrix(states):\n",
        "    start_matrix(symbols_total)\n",
        "    for left, right in states.items():\n",
        "        for production in right:\n",
        "            if len(production) > 1:\n",
        "                count = 0\n",
        "                while count < len(production) - 1:\n",
        "                    get_equal_rule1(production, count)\n",
        "                    get_less_rule2(production, count)\n",
        "                    get_greater_rule3(production, count)\n",
        "                    count += 1"
      ],
      "metadata": {
        "id": "BhGjekNVw6kt"
      },
      "execution_count": 89,
      "outputs": []
    },
    {
      "cell_type": "code",
      "source": [
        "def parse_string(string_input):\n",
        "    accepted, not_accepted = False, False\n",
        "    input0 = \"$\" + string_input + \"$\"\n",
        "    w = ''\n",
        "    for sb in range(len(input0) - 1):\n",
        "        w += input0[sb] + spm.loc[input0[sb], input0[sb + 1]]\n",
        "    w += \"$\"\n",
        "    input0 = w\n",
        "    print(input0)\n",
        "    while not (accepted or not_accepted):\n",
        "        if input0 == \"$<S>$\":\n",
        "            accepted = True\n",
        "            break\n",
        "        end = input0.index('>')\n",
        "        start = input0.rindex('<', 0, end)\n",
        "        deriv = input0[start+1:end]\n",
        "        if '=' in deriv:\n",
        "            deriv = deriv.replace('=', '')\n",
        "        ant = input0[start-1]\n",
        "        post = input0[end+1]\n",
        "        n, not_accepted = check_input(deriv, ant, post)\n",
        "        if not_accepted:\n",
        "            break\n",
        "        input0 = input0[:start] + spm.loc[ant, n] + n + spm.loc[n, post] + input0[end + 1:]\n",
        "        print(input0)\n",
        "    if accepted:\n",
        "        print('Word accepted')\n",
        "    elif not_accepted:\n",
        "        print('Word not accepted')"
      ],
      "metadata": {
        "id": "2eWMgN-IxUqE"
      },
      "execution_count": 90,
      "outputs": []
    },
    {
      "cell_type": "code",
      "source": [
        "def check_input(deriv, ant, post):\n",
        "    list = []\n",
        "    for k, v in prod.items():\n",
        "        if deriv in v:\n",
        "            if spm.loc[ant, k] != '' and spm.loc[k, post] != '':\n",
        "                list.append(k)\n",
        "    if len(list) == 0:\n",
        "        return None\n",
        "    elif len(list) == 1:\n",
        "        return list[0], False\n",
        "    else:\n",
        "        for el in list:\n",
        "            if (spm.loc[ant, el] == '=' and spm.loc[el, post] == '=') or spm.loc[el, post] == '=' or spm.loc[ant, el] == '=':\n",
        "                return el, False\n",
        "        return list[0]\n"
      ],
      "metadata": {
        "id": "p7Voy75NxXO0"
      },
      "execution_count": 91,
      "outputs": []
    },
    {
      "cell_type": "code",
      "source": [
        "symbols_total = Vn + Vt\n",
        "symbols_total.append('$')\n",
        "\n",
        "prod = {}\n",
        "states = {}\n",
        "first = {}\n",
        "last = {}\n",
        "simple_precedence_matrix = {}\n",
        "\n",
        "parse_grammar()\n",
        "split_prod(P)\n",
        "print_grammar(states)\n",
        "check_grammar()\n",
        "first_last()\n",
        "print_first_last()\n",
        "finish_matrix(states)"
      ],
      "metadata": {
        "colab": {
          "base_uri": "https://localhost:8080/"
        },
        "id": "0x9wVj5xxjPU",
        "outputId": "9223430c-e859-4c97-f5f6-2d60269fadd3"
      },
      "execution_count": 92,
      "outputs": [
        {
          "output_type": "stream",
          "name": "stdout",
          "text": [
            "\n",
            "GIVEN GRAMMAR\n",
            "Vn = { S, B, D, A }\n",
            "Vt = { a, b, c, d }\n",
            "P = {\n",
            "\tS -> dB\n",
            "\tB -> a\n",
            "\tB -> aA\n",
            "\tA -> D\n",
            "\tA -> DcA\n",
            "\tA -> c\n",
            "\tD -> bB\n",
            "}\n",
            "\n",
            "The grammar is suitable for this parsing algorithm.\n",
            "\n",
            "VN     FIRST            LAST\n",
            " S       [d] [B, a, A, D, c]\n",
            " B       [a] [a, A, D, B, c]\n",
            " D       [b] [B, a, A, D, c]\n",
            " A [D, b, c] [D, B, a, A, c]\n"
          ]
        }
      ]
    },
    {
      "cell_type": "code",
      "source": [
        "data = [vv for v in simple_precedence_matrix.values() for vv in v.values()]\n",
        "d = []\n",
        "for el in data:\n",
        "    d.append(str(el).replace('[]', '').replace(\"['\", '').replace(\"']\", ''))\n",
        "d = [d[x:x + len(symbols_total)] for x in range(0, len(d), len(symbols_total))]\n",
        "spm = pd.DataFrame(d, index=symbols_total, columns=symbols_total)\n",
        "print('\\nCOMPUTE SIMPLE PRECEDENCE MATRIX', end='\\n')\n",
        "print(spm)"
      ],
      "metadata": {
        "colab": {
          "base_uri": "https://localhost:8080/"
        },
        "id": "9BHqmhxixtZW",
        "outputId": "1a4dcd8b-6efc-48c0-b7a3-a5415d818235"
      },
      "execution_count": 74,
      "outputs": [
        {
          "output_type": "stream",
          "name": "stdout",
          "text": [
            "\n",
            "COMPUTE SIMPLE PRECEDENCE MATRIX\n",
            "   S  B  D  A  a  b       c  d  $\n",
            "S                               >\n",
            "B                         >     >\n",
            "D                    =', '>     >\n",
            "A                         >     >\n",
            "a        <  =     <  <', '>     >\n",
            "b     =        <                >\n",
            "c        <  =     <  >', '<     >\n",
            "d     =        <                >\n",
            "$  <  <  <  <  <  <       <  <   \n"
          ]
        }
      ]
    },
    {
      "cell_type": "code",
      "source": [
        "string_input = 'dabacba'\n",
        "\n",
        "print('\\nPARSE WORD:', string_input, end='\\n')\n",
        "parse_string(string_input)"
      ],
      "metadata": {
        "colab": {
          "base_uri": "https://localhost:8080/",
          "height": 373
        },
        "id": "IExPxSE4xv4M",
        "outputId": "cb8644dd-9321-49e8-c04f-616c0156026d"
      },
      "execution_count": 93,
      "outputs": [
        {
          "output_type": "stream",
          "name": "stdout",
          "text": [
            "\n",
            "PARSE WORD: dabacba\n",
            "$<d<a<b<a<', '>c<b<a>$\n"
          ]
        },
        {
          "output_type": "error",
          "ename": "TypeError",
          "evalue": "ignored",
          "traceback": [
            "\u001b[0;31m---------------------------------------------------------------------------\u001b[0m",
            "\u001b[0;31mTypeError\u001b[0m                                 Traceback (most recent call last)",
            "\u001b[0;32m<ipython-input-93-862aa00d1ecf>\u001b[0m in \u001b[0;36m<module>\u001b[0;34m()\u001b[0m\n\u001b[1;32m      2\u001b[0m \u001b[0;34m\u001b[0m\u001b[0m\n\u001b[1;32m      3\u001b[0m \u001b[0mprint\u001b[0m\u001b[0;34m(\u001b[0m\u001b[0;34m'\\nPARSE WORD:'\u001b[0m\u001b[0;34m,\u001b[0m \u001b[0mstring_input\u001b[0m\u001b[0;34m,\u001b[0m \u001b[0mend\u001b[0m\u001b[0;34m=\u001b[0m\u001b[0;34m'\\n'\u001b[0m\u001b[0;34m)\u001b[0m\u001b[0;34m\u001b[0m\u001b[0;34m\u001b[0m\u001b[0m\n\u001b[0;32m----> 4\u001b[0;31m \u001b[0mparse_string\u001b[0m\u001b[0;34m(\u001b[0m\u001b[0mstring_input\u001b[0m\u001b[0;34m)\u001b[0m\u001b[0;34m\u001b[0m\u001b[0;34m\u001b[0m\u001b[0m\n\u001b[0m",
            "\u001b[0;32m<ipython-input-90-797af6e45f32>\u001b[0m in \u001b[0;36mparse_string\u001b[0;34m(string_input)\u001b[0m\n\u001b[1;32m     19\u001b[0m         \u001b[0mant\u001b[0m \u001b[0;34m=\u001b[0m \u001b[0minput0\u001b[0m\u001b[0;34m[\u001b[0m\u001b[0mstart\u001b[0m\u001b[0;34m-\u001b[0m\u001b[0;36m1\u001b[0m\u001b[0;34m]\u001b[0m\u001b[0;34m\u001b[0m\u001b[0;34m\u001b[0m\u001b[0m\n\u001b[1;32m     20\u001b[0m         \u001b[0mpost\u001b[0m \u001b[0;34m=\u001b[0m \u001b[0minput0\u001b[0m\u001b[0;34m[\u001b[0m\u001b[0mend\u001b[0m\u001b[0;34m+\u001b[0m\u001b[0;36m1\u001b[0m\u001b[0;34m]\u001b[0m\u001b[0;34m\u001b[0m\u001b[0;34m\u001b[0m\u001b[0m\n\u001b[0;32m---> 21\u001b[0;31m         \u001b[0mn\u001b[0m\u001b[0;34m,\u001b[0m \u001b[0mnot_accepted\u001b[0m \u001b[0;34m=\u001b[0m \u001b[0mcheck_input\u001b[0m\u001b[0;34m(\u001b[0m\u001b[0mderiv\u001b[0m\u001b[0;34m,\u001b[0m \u001b[0mant\u001b[0m\u001b[0;34m,\u001b[0m \u001b[0mpost\u001b[0m\u001b[0;34m)\u001b[0m\u001b[0;34m\u001b[0m\u001b[0;34m\u001b[0m\u001b[0m\n\u001b[0m\u001b[1;32m     22\u001b[0m         \u001b[0;32mif\u001b[0m \u001b[0mnot_accepted\u001b[0m\u001b[0;34m:\u001b[0m\u001b[0;34m\u001b[0m\u001b[0;34m\u001b[0m\u001b[0m\n\u001b[1;32m     23\u001b[0m             \u001b[0;32mbreak\u001b[0m\u001b[0;34m\u001b[0m\u001b[0;34m\u001b[0m\u001b[0m\n",
            "\u001b[0;31mTypeError\u001b[0m: cannot unpack non-iterable NoneType object"
          ]
        }
      ]
    }
  ]
}